{
 "cells": [
  {
   "cell_type": "markdown",
   "metadata": {
    "collapsed": true
   },
   "source": [
    "# Week 6 Discussion\n",
    "\n",
    "## Infographic\n",
    "\n",
    "* [Can't Trust Nutrition](http://fivethirtyeight.com/features/you-cant-trust-what-you-read-about-nutrition/)\n",
    "\n",
    "## Links\n",
    "\n",
    "## Notes"
   ]
  },
  {
   "cell_type": "markdown",
   "metadata": {},
   "source": [
    "#### Hypertext Transfer Protocol\n",
    "\n",
    "The hypertext transfer protocol (HTTP) is a set of rules for communication on the web.\n",
    "\n",
    "For example, your web browser (Firefox, Chrome, Edge, ...) uses HTTP every time you visit a web page. The browser makes a _request_ to the server for the page, and if nothing goes wrong, the server responds with the page.\n",
    "\n",
    "Several [different kinds of HTTP requests](https://en.wikipedia.org/wiki/Hypertext_Transfer_Protocol#Request_methods) are possible. Think of these as the different \"verbs\" you can be use when communicating in HTTP.\n",
    "\n",
    "The `requests` package has functions for making HTTP requests from Python and is [well-documented](http://docs.python-requests.org/en/master/). Even [the Python documentation for urllib](https://docs.python.org/2/library/urllib.html) recommends using `requests` (rather than `urllib`) for most tasks."
   ]
  },
  {
   "cell_type": "code",
   "execution_count": null,
   "metadata": {
    "collapsed": true
   },
   "outputs": [],
   "source": []
  },
  {
   "cell_type": "markdown",
   "metadata": {},
   "source": [
    "### Web APIs\n",
    "\n",
    "An _application programming interface_ (API) is a set of functions and data structures for communicating with other software. For instance, whenever you use a Python package, you're using the API created by the package's developers.\n",
    "\n",
    "Web sites sometimes provide an API so that programmers can access content without web scraping. In a web API, each function has a different URL. Sometimes these functions/URLs are called _endpoints_. Arguments can be passed to the function by adding `?PARAMETER=`\n",
    "\n",
    "The most popular kind of web API is a _representational state transfer_ (REST) API. In a REST API, the server handles separate function calls independently of each other.\n",
    "\n",
    "We can call a function in a web API by making an HTTP request."
   ]
  },
  {
   "cell_type": "markdown",
   "metadata": {},
   "source": [
    "### Example: iTunes Web API\n",
    "\n",
    "Apple provides a web API for getting information about media on iTunes, with documentation [here](https://affiliate.itunes.apple.com/resources/documentation/itunes-store-web-service-search-api/). There is only one function in the API:\n",
    "\n",
    "```\n",
    "https://itunes.apple.com/search\n",
    "```\n",
    "\n",
    "According to the documentation, a GET request to this URL searches for an artist."
   ]
  },
  {
   "cell_type": "markdown",
   "metadata": {},
   "source": [
    "Let's write a Python function that acts as a wrapper for the search function."
   ]
  },
  {
   "cell_type": "code",
   "execution_count": null,
   "metadata": {
    "collapsed": true
   },
   "outputs": [],
   "source": []
  },
  {
   "cell_type": "markdown",
   "metadata": {},
   "source": [
    "Most of the time, it's a good strategy to \"wrap\" each web API fuction with a Python function. This lets you to use the web API as if it's just another Python module.\n",
    "\n",
    "If you're using the web API to get data, the next step is to convert the data to a Pandas data frame:"
   ]
  },
  {
   "cell_type": "code",
   "execution_count": null,
   "metadata": {
    "collapsed": true
   },
   "outputs": [],
   "source": []
  },
  {
   "cell_type": "markdown",
   "metadata": {},
   "source": [
    "### Being Polite"
   ]
  }
 ],
 "metadata": {
  "kernelspec": {
   "display_name": "Python 2",
   "language": "python2",
   "name": "python2"
  },
  "language_info": {
   "codemirror_mode": {
    "name": "ipython",
    "version": 2
   },
   "file_extension": ".py",
   "mimetype": "text/x-python",
   "name": "python",
   "nbconvert_exporter": "python",
   "pygments_lexer": "ipython2",
   "version": "2.7.14"
  }
 },
 "nbformat": 4,
 "nbformat_minor": 2
}
