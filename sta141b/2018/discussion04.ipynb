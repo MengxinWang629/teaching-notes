{
 "cells": [
  {
   "cell_type": "markdown",
   "metadata": {},
   "source": [
    "# Week 4 Discussion\n",
    "\n",
    "## Infographic\n",
    "\n",
    "* [Python Plotting for EDA](http://pythonplot.com/): Side-by-side comparison of the major visualization libraries.\n",
    "\n",
    "## Links\n",
    "\n",
    "* [The Python Visualization Landscape](https://www.youtube.com/watch?v=FytuB8nFHPQ): A recent talk about visualization libraries for Python.\n",
    "* [A Dramatic Tour through Python's Data Visualization Landscape](https://dsaber.com/2016/10/02/a-dramatic-tour-through-pythons-data-visualization-landscape-including-ggplot-and-altair/): Examples that show why you should know matplotlib, but should use some other library to make most of your plots. From Oct 2016, so a little outdated.\n",
    "* [matplotlib Arist Tutorial](https://matplotlib.org/users/artists.html): If you want a deeper understanding of matplotlib.\n",
    "\n",
    "## Notes"
   ]
  },
  {
   "cell_type": "markdown",
   "metadata": {},
   "source": [
    "How can we make plots in Python?\n",
    "\n",
    "Package        | Family     | Depends On\n",
    "---------------|------------|-----------\n",
    "[matplotlib][] | matplotlib |\n",
    "[seaborn][]    | matplotlib | matplotlib\n",
    "[pandas][]     | matplotlib | matplotlib\n",
    "[plotnine][]   | ggplot     | matplotlib\n",
    "[ggpy][]       | ggplot     | matplotlib\n",
    "[altair][]     | browser    | d3.js\n",
    "[plotly][]     | browser    | d3.js\n",
    "[mpld3][]      | browser    | d3.js\n",
    "[bokeh][]      | browser    |\n",
    "[bqplot][]     | browser    | jupyter\n",
    "[vega][]       | browser    | jupyter + d3.js\n",
    "\n",
    "[matplotlib]: https://matplotlib.org/\n",
    "[seaborn]: https://seaborn.pydata.org/\n",
    "[pandas]: http://pandas.pydata.org/pandas-docs/stable/visualization.html\n",
    "[plotnine]: http://plotnine.readthedocs.io/\n",
    "[ggpy]: http://yhat.github.io/ggpy/\n",
    "[altair]: https://altair-viz.github.io/\n",
    "[plotly]: https://plot.ly/python/\n",
    "[mpld3]: http://mpld3.github.io/\n",
    "[bokeh]: https://bokeh.pydata.org/\n",
    "[bqplot]: https://github.com/bloomberg/bqplot\n",
    "[vega]: https://github.com/vega/ipyvega\n",
    "\n",
    "And more..."
   ]
  },
  {
   "cell_type": "markdown",
   "metadata": {},
   "source": [
    "So what should you actually use?\n",
    "\n",
    "__Seaborn__ is stable. __Plotnine__ is convenient if you already know ggplot.\n",
    "\n",
    "Uderstanding __matplotlib__ is useful, but using matplotlib to create plots is painful. The most important thing to know is matplotlib's jargon:\n",
    "\n",
    "* _Figure_: Container for plots.\n",
    "* _Axes_: Container for components of a plot (\"primitives\"). In other words, this is a single plot.\n",
    "* _Axis_: Container for components of an axis. This is a single axis.\n",
    "* _Tick_: A container for tick marks on an axis.\n",
    "\n",
    "All of the containers and the primitives are called _Artists_."
   ]
  },
  {
   "cell_type": "markdown",
   "metadata": {},
   "source": [
    "What kind of plots do we usually make?\n",
    "\n",
    "First Feature | Second Feature | Plot\n",
    "--------------|----------------|:----\n",
    "categorical   |                | dot, <span style=\"color: #aaa\">bar</span>, <span style=\"color: #aaa\">pie</span>\n",
    "categorical   | categorical    | dot, mosaic, <span style=\"color: #aaa\">bar</span>\n",
    "numerical     |                | box, density, histogram\n",
    "numerical     | categorical    | box, density\n",
    "numerical     | numerical      | line, scatter, smooth scatter\n"
   ]
  },
  {
   "cell_type": "code",
   "execution_count": null,
   "metadata": {
    "collapsed": true
   },
   "outputs": [],
   "source": [
    "%matplotlib inline"
   ]
  },
  {
   "cell_type": "code",
   "execution_count": null,
   "metadata": {
    "scrolled": true
   },
   "outputs": [],
   "source": [
    "import matplotlib.pyplot as plt\n",
    "import pandas as pd\n",
    "import plotnine as gg\n",
    "import seaborn as sns\n",
    "\n",
    "dogs = pd.read_feather(\"data/dogs.feather\")\n",
    "dogs.head()"
   ]
  },
  {
   "cell_type": "markdown",
   "metadata": {},
   "source": [
    "Dogs data from [Information is Beautiful](https://informationisbeautiful.net/visualizations/best-in-show-whats-the-top-data-dog/)."
   ]
  },
  {
   "cell_type": "markdown",
   "metadata": {},
   "source": [
    "Quick notes on Pandas:"
   ]
  },
  {
   "cell_type": "markdown",
   "metadata": {},
   "source": [
    "### Dot Plots\n",
    "\n",
    "Plot the number of dogs in each category."
   ]
  },
  {
   "cell_type": "code",
   "execution_count": null,
   "metadata": {},
   "outputs": [],
   "source": [
    "# Pandas\n",
    "counts = dogs[\"category\"].value_counts()\n",
    "\n",
    "ax = counts.plot(style = \"o\")\n",
    "ax.set(title = \"Dog Categories\", xlabel = \"Category\", ylabel = \"Count\")"
   ]
  },
  {
   "cell_type": "code",
   "execution_count": null,
   "metadata": {},
   "outputs": [],
   "source": [
    "counts = dogs[\"category\"].value_counts()\n",
    "\n",
    "ax = sns.stripplot(x = counts.index, y = counts)\n",
    "ax.set(title = \"Dog Categories\", xlabel = \"Category\", ylabel = \"Count\")\n",
    "ax.set_xticklabels(ax.get_xticklabels(), rotation = 45)"
   ]
  },
  {
   "cell_type": "code",
   "execution_count": null,
   "metadata": {},
   "outputs": [],
   "source": [
    "# Plotnine\n",
    "\n",
    "p = gg.ggplot(dogs, gg.aes(\"category\")) + gg.geom_point(stat = \"count\")\n",
    "p + gg.labs(title = \"Dog Categories\", x = \"Category\", y = \"Count\")"
   ]
  },
  {
   "cell_type": "markdown",
   "metadata": {},
   "source": [
    "### Box Plots\n",
    "\n",
    "Plot the distribution of dog longevity, grouped by category."
   ]
  },
  {
   "cell_type": "code",
   "execution_count": null,
   "metadata": {},
   "outputs": [],
   "source": [
    "# Pandas\n",
    "\n",
    "ax = dogs.boxplot(by = \"category\", column = \"longevity\", rot = 45)\n",
    "# Set title and axis labels.\n",
    "ax.set(title = \"Dog Longevity\", xlabel = \"Category\", ylabel = \"Years\")\n",
    "# Hide grouping title Pandas adds.\n",
    "ax.get_figure().suptitle(\"\")\n",
    "\n",
    "# There is also .plot.box(), but it seems to be buggy."
   ]
  },
  {
   "cell_type": "code",
   "execution_count": null,
   "metadata": {},
   "outputs": [],
   "source": [
    "# Seaborn\n",
    "\n",
    "ax = sns.boxplot(x = \"category\", y = \"longevity\", data = dogs)\n",
    "ax.set(title = \"Dog Longevity\", xlabel = \"Category\", ylabel = \"Years\")\n",
    "ax.set_xticklabels(ax.get_xticklabels(), rotation = 45)"
   ]
  },
  {
   "cell_type": "code",
   "execution_count": null,
   "metadata": {},
   "outputs": [],
   "source": [
    "# Plotnine\n",
    "\n",
    "p = gg.ggplot(dogs, gg.aes(\"category\", \"longevity\")) + gg.geom_boxplot()\n",
    "p + gg.labs(title = \"Dog Longevity\", x = \"Category\", y = \"Years\")"
   ]
  },
  {
   "cell_type": "markdown",
   "metadata": {},
   "source": [
    "### Scatter Plots"
   ]
  },
  {
   "cell_type": "markdown",
   "metadata": {},
   "source": [
    "Plot popularity against datadog score."
   ]
  },
  {
   "cell_type": "code",
   "execution_count": null,
   "metadata": {},
   "outputs": [],
   "source": [
    "# Pandas\n",
    "\n",
    "ax = dogs.plot.scatter(x = \"datadog\", y = \"popularity\")\n",
    "ax.set(title = \"Best in Show\", xlabel = \"DataDog Score\", ylabel = \"Popularity Rank\")\n",
    "ylim = reversed(ax.get_ylim())\n",
    "ax.set_ylim(ylim)"
   ]
  },
  {
   "cell_type": "code",
   "execution_count": null,
   "metadata": {},
   "outputs": [],
   "source": [
    "# Seaborn\n",
    "\n",
    "ax = sns.regplot(x = \"datadog\", y = \"popularity\", data = dogs, fit_reg = False)\n",
    "ax.set(title = \"Best in Show\", xlabel = \"DataDog Score\", ylabel = \"Popularity Rank\")\n",
    "ylim = reversed(ax.get_ylim())\n",
    "ax.set_ylim(ylim)"
   ]
  },
  {
   "cell_type": "code",
   "execution_count": null,
   "metadata": {},
   "outputs": [],
   "source": [
    "# Plotnine\n",
    "\n",
    "p = gg.ggplot(dogs, gg.aes(\"datadog\", \"popularity\")) + gg.geom_point()\n",
    "p + gg.labs(title = \"Best in Show\", x = \"DataDog Score\", y = \"Popularity Rank\")\n",
    "p + gg.ylim(95, -5)"
   ]
  },
  {
   "cell_type": "markdown",
   "metadata": {},
   "source": [
    "### Smooth Scatter Plots"
   ]
  },
  {
   "cell_type": "markdown",
   "metadata": {},
   "source": [
    "Plot popularity against datadog score as a smooth scatter plot (or similar)."
   ]
  },
  {
   "cell_type": "code",
   "execution_count": null,
   "metadata": {},
   "outputs": [],
   "source": [
    "# Pandas\n",
    "\n",
    "# `sharex = False` to fix a bug with xlabel.\n",
    "ax = dogs.plot.hexbin(x = \"datadog\", y = \"popularity\", gridsize = 10, sharex = False)\n",
    "ax.set(title = \"Best in Show\", xlabel = \"DataDog Score\", ylabel = \"Popularity Rank\")\n",
    "ylim = reversed(ax.get_ylim())\n",
    "ax.set_ylim(ylim)"
   ]
  },
  {
   "cell_type": "code",
   "execution_count": null,
   "metadata": {},
   "outputs": [],
   "source": [
    "# Seaborn\n",
    "\n",
    "g = sns.jointplot(x = \"datadog\", y = \"popularity\", data = dogs, kind = \"hex\", gridsize = 15, ylim = (95, -5))\n",
    "g.set_axis_labels(\"DataDog Score\", \"Popularity Rank\")"
   ]
  },
  {
   "cell_type": "code",
   "execution_count": null,
   "metadata": {},
   "outputs": [],
   "source": [
    "# Plotnine\n",
    "\n",
    "# Doesn't have geom_hex() yet.\n",
    "p = gg.ggplot(dogs, gg.aes(\"datadog\", \"popularity\")) + gg.geom_bin2d(bins = 20)\n",
    "p + gg.labs(title = \"Best in Show\", x = \"DataDog Score\", y = \"Popularity Rank\")\n",
    "p + gg.ylim(95, -5)"
   ]
  }
 ],
 "metadata": {
  "kernelspec": {
   "display_name": "Python 3",
   "language": "python",
   "name": "python3"
  },
  "language_info": {
   "codemirror_mode": {
    "name": "ipython",
    "version": 3
   },
   "file_extension": ".py",
   "mimetype": "text/x-python",
   "name": "python",
   "nbconvert_exporter": "python",
   "pygments_lexer": "ipython3",
   "version": "3.6.4"
  }
 },
 "nbformat": 4,
 "nbformat_minor": 2
}
