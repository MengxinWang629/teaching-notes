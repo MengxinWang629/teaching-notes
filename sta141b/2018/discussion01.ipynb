{
 "cells": [
  {
   "cell_type": "markdown",
   "metadata": {},
   "source": [
    "# STA 141b Week 1\n",
    "\n",
    "_TA: Nick Ulle (naulle@ucdavis.edu)_\n",
    "\n",
    "## Links\n",
    "\n",
    "* [How to Set Up a Virtual Machine](http://nick-ulle.github.io/virtual-machine/) -- if you want to try Linux\n",
    "\n",
    "* [How to Set Up Bash on Win10](https://msdn.microsoft.com/en-us/commandline/wsl/install_guide) -- another way to try Linux"
   ]
  },
  {
   "cell_type": "markdown",
   "metadata": {},
   "source": [
    "## Discussion Notes\n",
    "\n",
    "### Getting Help\n",
    "\n",
    "Python is [well-documented](https://docs.python.org/3.6/)!\n",
    "\n",
    "You can also access documentation with the `help()` function."
   ]
  },
  {
   "cell_type": "code",
   "execution_count": null,
   "metadata": {},
   "outputs": [],
   "source": [
    "help(range)"
   ]
  },
  {
   "cell_type": "markdown",
   "metadata": {},
   "source": [
    "### Modules & Packages\n",
    "\n",
    "Python has _modules_ and also _packages_. What's the difference?\n",
    "\n",
    "A module is a single Python script (a `.py` file). You can load a module with the `import` command.\n",
    "\n",
    "A package is a collection of modules prepared for distribution. You can install a package with `conda` or `pip`. Some packages only have one module.\n",
    "\n",
    "Which of the built-in modules are important?\n",
    "\n",
    "Module      | Description\n",
    "----------- | -----------\n",
    "sys         | info about Python (version, etc)\n",
    "pdb         | Python debugger\n",
    "os.path     | tools for file paths\n",
    "collections | additional data structures\n",
    "string      | string processing\n",
    "re          | regular expressions\n",
    "urlparse    | parse URLs\n",
    "math        | simple math (but we'll mostly use NumPy instead)\n",
    "itertools   | tools for iterators\n",
    "functools   | tools for functions"
   ]
  },
  {
   "cell_type": "code",
   "execution_count": null,
   "metadata": {},
   "outputs": [],
   "source": [
    "import sys\n",
    "\n",
    "sys.version"
   ]
  },
  {
   "cell_type": "markdown",
   "metadata": {},
   "source": [
    "Python has built in `math` and `statistics` modules, but they are missing features needed for serious scientific computing.\n",
    "\n",
    "Instead, we'll use the \"SciPy Stack\". The SciPy Stack is a collection of packages for scientific computing (marked with a `*` below). Most scientists working in Python use the SciPy Stack. The 3 most important packages in the stack are:\n",
    "\n",
    "Package      | Description\n",
    "------------ | -----------\n",
    "numpy\\*      | arrays, matrices, math/stat functions\n",
    "scipy\\*      | additional math/stat functions\n",
    "pandas\\*     | data frames\n",
    "\n",
    "There are also several packages available for creating plots. A future lecture or discussion will explain what makes each unique:\n",
    "\n",
    "Package      | Description\n",
    "------------ | -----------\n",
    "matplotlib\\* | visualizations\n",
    "seaborn      | \"statistical\" visualizations\n",
    "plotly       | in-browser visualizations\n",
    "bokeh        | in-browser visualizations\n",
    "\n",
    "Finally, there are many other packages we may use for specific tasks (that is, only on a few assignments). Some of these are:\n",
    "\n",
    "Package      | Description\n",
    "------------ | -----------\n",
    "statsmodels  | classical statistical models\n",
    "scikit-learn | machine learning models\n",
    "requests     | web (HTTP) requests\n",
    "lxml         | web page parsing (XML & HTML)\n",
    "beatifulsoup | web page parsing (HTML)\n",
    "nltk         | natural language processing\n",
    "spacy        | natural language processing\n",
    "textblob     | natural language processing\n",
    "pillow       | image processing\n",
    "scikit-image | image processing\n",
    "opencv       | image processing"
   ]
  }
 ],
 "metadata": {
  "kernelspec": {
   "display_name": "Python 3",
   "language": "python",
   "name": "python3"
  },
  "language_info": {
   "codemirror_mode": {
    "name": "ipython",
    "version": 3
   },
   "file_extension": ".py",
   "mimetype": "text/x-python",
   "name": "python",
   "nbconvert_exporter": "python",
   "pygments_lexer": "ipython3",
   "version": "3.6.4"
  }
 },
 "nbformat": 4,
 "nbformat_minor": 2
}
