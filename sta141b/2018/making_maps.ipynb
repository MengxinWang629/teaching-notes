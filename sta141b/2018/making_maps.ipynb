{
 "cells": [
  {
   "cell_type": "markdown",
   "metadata": {},
   "source": [
    "# Making Maps"
   ]
  },
  {
   "cell_type": "markdown",
   "metadata": {},
   "source": [
    "\n",
    "What goes into making a map?\n",
    "\n",
    "* __Geometry__: Data structures to represent points, lines, and polygons, along with functions to manipulate them. Most packages are based on the open-source GEOS library.\n",
    "* __Projections__: Functions to convert between different map projections. Most packages are based on the open-source PROJ.4 library.\n",
    "* __Formats__: Functions to read/write shapefiles, geojson, and other formats. Most packages are based on the open-source GDAL/OGR library.\n",
    "* __Display__: Functions to draw the map.\n",
    "* __Searches__: Functions to search in various ways (geocode, reverse geocode, and so on).\n",
    "\n",
    "The organization of Python's GIS (geographic information system) packages can be confusing, and some of the packages are difficult to install.\n",
    "\n",
    "It's easiest to get started with one of the major mapping packages:\n",
    "\n",
    "* basemap\n",
    "* cartopy\n",
    "* geopandas\n",
    "* geoplot"
   ]
  },
  {
   "cell_type": "markdown",
   "metadata": {},
   "source": [
    "## References\n",
    "\n",
    "* Lawhead, J. _Learning Geospatial Analysis with Python_.\n",
    "* [Basemap](http://matplotlib.org/basemap/)\n",
    "    + [Basemap Tutorial](https://basemaptutorial.readthedocs.io/en/latest/)\n",
    "    + [Mapping Global Earthquake Activity](http://introtopython.org/visualization_earthquakes.html)\n",
    "    + [Creating Attractive and Informative Map Visualisations in Python with Basemap](http://www.datadependence.com/2016/06/creating-map-visualisations-in-python/)\n",
    "* [CartoPy](http://scitools.org.uk/cartopy/docs/latest/)\n",
    "* [GeoPandas](http://geopandas.org/)\n",
    "    + [Automating GIS Processes](https://automating-gis-processes.github.io/), an open course from University of Helsinki\n",
    "* [Geoplot](https://residentmario.github.io/geoplot/)"
   ]
  },
  {
   "cell_type": "markdown",
   "metadata": {},
   "source": [
    "## Setup"
   ]
  },
  {
   "cell_type": "code",
   "execution_count": 1,
   "metadata": {
    "collapsed": true
   },
   "outputs": [],
   "source": [
    "# Make Jupyter to automatically display matplotlib plots.\n",
    "%matplotlib inline\n",
    "# Make plots larger.\n",
    "import matplotlib.pyplot as plt\n",
    "plt.rcParams['figure.figsize'] = (12, 12)"
   ]
  },
  {
   "cell_type": "markdown",
   "metadata": {},
   "source": [
    "The Yolo County health data is available [here](http://anson.ucdavis.edu/~nulle/yolo_food.feather)."
   ]
  },
  {
   "cell_type": "code",
   "execution_count": 2,
   "metadata": {},
   "outputs": [
    {
     "data": {
      "text/html": [
       "<div>\n",
       "<style scoped>\n",
       "    .dataframe tbody tr th:only-of-type {\n",
       "        vertical-align: middle;\n",
       "    }\n",
       "\n",
       "    .dataframe tbody tr th {\n",
       "        vertical-align: top;\n",
       "    }\n",
       "\n",
       "    .dataframe thead th {\n",
       "        text-align: right;\n",
       "    }\n",
       "</style>\n",
       "<table border=\"1\" class=\"dataframe\">\n",
       "  <thead>\n",
       "    <tr style=\"text-align: right;\">\n",
       "      <th></th>\n",
       "      <th>Address</th>\n",
       "      <th>CityStateZip</th>\n",
       "      <th>FacilityId</th>\n",
       "      <th>FacilityName</th>\n",
       "      <th>LastScore</th>\n",
       "      <th>attachmentId</th>\n",
       "      <th>facility_index</th>\n",
       "      <th>programId</th>\n",
       "      <th>lat</th>\n",
       "      <th>lng</th>\n",
       "      <th>violation_count</th>\n",
       "    </tr>\n",
       "  </thead>\n",
       "  <tbody>\n",
       "    <tr>\n",
       "      <th>0</th>\n",
       "      <td>507 L ST</td>\n",
       "      <td>DAVIS CA 95616</td>\n",
       "      <td>FA0001050</td>\n",
       "      <td>AGGIE LIQUOR</td>\n",
       "      <td>100.0</td>\n",
       "      <td>None</td>\n",
       "      <td>0</td>\n",
       "      <td>PR0000625</td>\n",
       "      <td>38.548803</td>\n",
       "      <td>-121.734964</td>\n",
       "      <td>1.0</td>\n",
       "    </tr>\n",
       "    <tr>\n",
       "      <th>1</th>\n",
       "      <td>1638 W CAPITOL AVE A</td>\n",
       "      <td>WEST SACRAMENTO CA 95691</td>\n",
       "      <td>FA0001104</td>\n",
       "      <td>ARIANA FOOD MARKET</td>\n",
       "      <td>100.0</td>\n",
       "      <td>47e30d7a-1ac8-4f4e-9698-a8470105abf2</td>\n",
       "      <td>1</td>\n",
       "      <td>PR0001009</td>\n",
       "      <td>38.580577</td>\n",
       "      <td>-121.529824</td>\n",
       "      <td>40.0</td>\n",
       "    </tr>\n",
       "    <tr>\n",
       "      <th>2</th>\n",
       "      <td>940 SACRAMENTO AVE</td>\n",
       "      <td>WEST SACRAMENTO CA 95605</td>\n",
       "      <td>FA0001394</td>\n",
       "      <td>ARTEAGA'S SUPERMARKET INC</td>\n",
       "      <td>100.0</td>\n",
       "      <td>97e57282-4d8f-489c-b824-a7f901131b7d</td>\n",
       "      <td>2</td>\n",
       "      <td>PR0000916</td>\n",
       "      <td>38.590215</td>\n",
       "      <td>-121.525425</td>\n",
       "      <td>36.0</td>\n",
       "    </tr>\n",
       "    <tr>\n",
       "      <th>3</th>\n",
       "      <td>966 SACRAMENTO Ave</td>\n",
       "      <td>WEST SACRAMENTO CA 95691</td>\n",
       "      <td>FA0001628</td>\n",
       "      <td>AY! JALISCO TAQUERIA #1</td>\n",
       "      <td>100.0</td>\n",
       "      <td>None</td>\n",
       "      <td>3</td>\n",
       "      <td>PR0022107</td>\n",
       "      <td>38.589293</td>\n",
       "      <td>-121.524593</td>\n",
       "      <td>15.0</td>\n",
       "    </tr>\n",
       "    <tr>\n",
       "      <th>4</th>\n",
       "      <td>220 3RD ST</td>\n",
       "      <td>DAVIS CA 95616</td>\n",
       "      <td>FA0001973</td>\n",
       "      <td>ALI BABA RESTAURANT</td>\n",
       "      <td>100.0</td>\n",
       "      <td>21baede1-18be-40df-a479-a86b00c2551f</td>\n",
       "      <td>4</td>\n",
       "      <td>PR0000674</td>\n",
       "      <td>38.543602</td>\n",
       "      <td>-121.746331</td>\n",
       "      <td>34.0</td>\n",
       "    </tr>\n",
       "  </tbody>\n",
       "</table>\n",
       "</div>"
      ],
      "text/plain": [
       "                 Address               CityStateZip FacilityId  \\\n",
       "0              507 L ST             DAVIS CA 95616   FA0001050   \n",
       "1  1638 W CAPITOL AVE A   WEST SACRAMENTO CA 95691   FA0001104   \n",
       "2    940 SACRAMENTO AVE   WEST SACRAMENTO CA 95605   FA0001394   \n",
       "3    966 SACRAMENTO Ave   WEST SACRAMENTO CA 95691   FA0001628   \n",
       "4            220 3RD ST             DAVIS CA 95616   FA0001973   \n",
       "\n",
       "                FacilityName  LastScore                          attachmentId  \\\n",
       "0               AGGIE LIQUOR      100.0                                  None   \n",
       "1         ARIANA FOOD MARKET      100.0  47e30d7a-1ac8-4f4e-9698-a8470105abf2   \n",
       "2  ARTEAGA'S SUPERMARKET INC      100.0  97e57282-4d8f-489c-b824-a7f901131b7d   \n",
       "3    AY! JALISCO TAQUERIA #1      100.0                                  None   \n",
       "4        ALI BABA RESTAURANT      100.0  21baede1-18be-40df-a479-a86b00c2551f   \n",
       "\n",
       "   facility_index  programId        lat         lng  violation_count  \n",
       "0               0  PR0000625  38.548803 -121.734964              1.0  \n",
       "1               1  PR0001009  38.580577 -121.529824             40.0  \n",
       "2               2  PR0000916  38.590215 -121.525425             36.0  \n",
       "3               3  PR0022107  38.589293 -121.524593             15.0  \n",
       "4               4  PR0000674  38.543602 -121.746331             34.0  "
      ]
     },
     "execution_count": 2,
     "metadata": {},
     "output_type": "execute_result"
    }
   ],
   "source": [
    "import pandas as pd\n",
    "\n",
    "food = pd.read_feather(\"data/yolo_food.feather\")\n",
    "food.head()"
   ]
  },
  {
   "cell_type": "markdown",
   "metadata": {},
   "source": [
    "## GeoPandas\n",
    "\n",
    "The GeoPandas package provides a Pandas-like interface for working with GIS data and making maps."
   ]
  },
  {
   "cell_type": "markdown",
   "metadata": {},
   "source": [
    "Shapely is a package that provides data structures for geometry. In order to use GeoPandas with our data, we need to convert the longitude and latitude to Shapely points."
   ]
  },
  {
   "cell_type": "code",
   "execution_count": 3,
   "metadata": {},
   "outputs": [
    {
     "data": {
      "image/svg+xml": [
       "<svg xmlns=\"http://www.w3.org/2000/svg\" xmlns:xlink=\"http://www.w3.org/1999/xlink\" width=\"100.0\" height=\"100.0\" viewBox=\"4.0 9.0 2.0 2.0\" preserveAspectRatio=\"xMinYMin meet\"><g transform=\"matrix(1,0,0,-1,0,20.0)\"><circle cx=\"5.0\" cy=\"10.0\" r=\"0.06\" stroke=\"#555555\" stroke-width=\"0.02\" fill=\"#66cc99\" opacity=\"0.6\" /></g></svg>"
      ],
      "text/plain": [
       "<shapely.geometry.point.Point at 0x7fd4942bd828>"
      ]
     },
     "execution_count": 3,
     "metadata": {},
     "output_type": "execute_result"
    }
   ],
   "source": [
    "import shapely.geometry as geom\n",
    "\n",
    "geom.Point(5, 10)"
   ]
  },
  {
   "cell_type": "code",
   "execution_count": 4,
   "metadata": {},
   "outputs": [
    {
     "data": {
      "image/svg+xml": [
       "<svg xmlns=\"http://www.w3.org/2000/svg\" xmlns:xlink=\"http://www.w3.org/1999/xlink\" width=\"100.0\" height=\"100.0\" viewBox=\"-0.8 9.2 21.6 6.600000000000001\" preserveAspectRatio=\"xMinYMin meet\"><g transform=\"matrix(1,0,0,-1,0,25.0)\"><polyline fill=\"none\" stroke=\"#66cc99\" stroke-width=\"0.43200000000000005\" points=\"5.0,10.0 0.0,15.0 20.0,10.0\" opacity=\"0.8\" /></g></svg>"
      ],
      "text/plain": [
       "<shapely.geometry.linestring.LineString at 0x7fd46d467cc0>"
      ]
     },
     "execution_count": 4,
     "metadata": {},
     "output_type": "execute_result"
    }
   ],
   "source": [
    "geom.LineString([(5, 10), (0, 15), (20, 10)])"
   ]
  },
  {
   "cell_type": "code",
   "execution_count": 5,
   "metadata": {},
   "outputs": [
    {
     "data": {
      "text/html": [
       "<div>\n",
       "<style scoped>\n",
       "    .dataframe tbody tr th:only-of-type {\n",
       "        vertical-align: middle;\n",
       "    }\n",
       "\n",
       "    .dataframe tbody tr th {\n",
       "        vertical-align: top;\n",
       "    }\n",
       "\n",
       "    .dataframe thead th {\n",
       "        text-align: right;\n",
       "    }\n",
       "</style>\n",
       "<table border=\"1\" class=\"dataframe\">\n",
       "  <thead>\n",
       "    <tr style=\"text-align: right;\">\n",
       "      <th></th>\n",
       "      <th>Address</th>\n",
       "      <th>CityStateZip</th>\n",
       "      <th>FacilityId</th>\n",
       "      <th>FacilityName</th>\n",
       "      <th>LastScore</th>\n",
       "      <th>attachmentId</th>\n",
       "      <th>facility_index</th>\n",
       "      <th>programId</th>\n",
       "      <th>lat</th>\n",
       "      <th>lng</th>\n",
       "      <th>violation_count</th>\n",
       "      <th>geometry</th>\n",
       "    </tr>\n",
       "  </thead>\n",
       "  <tbody>\n",
       "    <tr>\n",
       "      <th>0</th>\n",
       "      <td>507 L ST</td>\n",
       "      <td>DAVIS CA 95616</td>\n",
       "      <td>FA0001050</td>\n",
       "      <td>AGGIE LIQUOR</td>\n",
       "      <td>100.0</td>\n",
       "      <td>None</td>\n",
       "      <td>0</td>\n",
       "      <td>PR0000625</td>\n",
       "      <td>38.548803</td>\n",
       "      <td>-121.734964</td>\n",
       "      <td>1.0</td>\n",
       "      <td>POINT (-121.7349636 38.54880290000001)</td>\n",
       "    </tr>\n",
       "    <tr>\n",
       "      <th>1</th>\n",
       "      <td>1638 W CAPITOL AVE A</td>\n",
       "      <td>WEST SACRAMENTO CA 95691</td>\n",
       "      <td>FA0001104</td>\n",
       "      <td>ARIANA FOOD MARKET</td>\n",
       "      <td>100.0</td>\n",
       "      <td>47e30d7a-1ac8-4f4e-9698-a8470105abf2</td>\n",
       "      <td>1</td>\n",
       "      <td>PR0001009</td>\n",
       "      <td>38.580577</td>\n",
       "      <td>-121.529824</td>\n",
       "      <td>40.0</td>\n",
       "      <td>POINT (-121.5298241 38.5805771)</td>\n",
       "    </tr>\n",
       "    <tr>\n",
       "      <th>2</th>\n",
       "      <td>940 SACRAMENTO AVE</td>\n",
       "      <td>WEST SACRAMENTO CA 95605</td>\n",
       "      <td>FA0001394</td>\n",
       "      <td>ARTEAGA'S SUPERMARKET INC</td>\n",
       "      <td>100.0</td>\n",
       "      <td>97e57282-4d8f-489c-b824-a7f901131b7d</td>\n",
       "      <td>2</td>\n",
       "      <td>PR0000916</td>\n",
       "      <td>38.590215</td>\n",
       "      <td>-121.525425</td>\n",
       "      <td>36.0</td>\n",
       "      <td>POINT (-121.525425 38.590215)</td>\n",
       "    </tr>\n",
       "    <tr>\n",
       "      <th>3</th>\n",
       "      <td>966 SACRAMENTO Ave</td>\n",
       "      <td>WEST SACRAMENTO CA 95691</td>\n",
       "      <td>FA0001628</td>\n",
       "      <td>AY! JALISCO TAQUERIA #1</td>\n",
       "      <td>100.0</td>\n",
       "      <td>None</td>\n",
       "      <td>3</td>\n",
       "      <td>PR0022107</td>\n",
       "      <td>38.589293</td>\n",
       "      <td>-121.524593</td>\n",
       "      <td>15.0</td>\n",
       "      <td>POINT (-121.5245931 38.5892931)</td>\n",
       "    </tr>\n",
       "    <tr>\n",
       "      <th>4</th>\n",
       "      <td>220 3RD ST</td>\n",
       "      <td>DAVIS CA 95616</td>\n",
       "      <td>FA0001973</td>\n",
       "      <td>ALI BABA RESTAURANT</td>\n",
       "      <td>100.0</td>\n",
       "      <td>21baede1-18be-40df-a479-a86b00c2551f</td>\n",
       "      <td>4</td>\n",
       "      <td>PR0000674</td>\n",
       "      <td>38.543602</td>\n",
       "      <td>-121.746331</td>\n",
       "      <td>34.0</td>\n",
       "      <td>POINT (-121.7463309 38.543602)</td>\n",
       "    </tr>\n",
       "  </tbody>\n",
       "</table>\n",
       "</div>"
      ],
      "text/plain": [
       "                 Address               CityStateZip FacilityId  \\\n",
       "0              507 L ST             DAVIS CA 95616   FA0001050   \n",
       "1  1638 W CAPITOL AVE A   WEST SACRAMENTO CA 95691   FA0001104   \n",
       "2    940 SACRAMENTO AVE   WEST SACRAMENTO CA 95605   FA0001394   \n",
       "3    966 SACRAMENTO Ave   WEST SACRAMENTO CA 95691   FA0001628   \n",
       "4            220 3RD ST             DAVIS CA 95616   FA0001973   \n",
       "\n",
       "                FacilityName  LastScore                          attachmentId  \\\n",
       "0               AGGIE LIQUOR      100.0                                  None   \n",
       "1         ARIANA FOOD MARKET      100.0  47e30d7a-1ac8-4f4e-9698-a8470105abf2   \n",
       "2  ARTEAGA'S SUPERMARKET INC      100.0  97e57282-4d8f-489c-b824-a7f901131b7d   \n",
       "3    AY! JALISCO TAQUERIA #1      100.0                                  None   \n",
       "4        ALI BABA RESTAURANT      100.0  21baede1-18be-40df-a479-a86b00c2551f   \n",
       "\n",
       "   facility_index  programId        lat         lng  violation_count  \\\n",
       "0               0  PR0000625  38.548803 -121.734964              1.0   \n",
       "1               1  PR0001009  38.580577 -121.529824             40.0   \n",
       "2               2  PR0000916  38.590215 -121.525425             36.0   \n",
       "3               3  PR0022107  38.589293 -121.524593             15.0   \n",
       "4               4  PR0000674  38.543602 -121.746331             34.0   \n",
       "\n",
       "                                 geometry  \n",
       "0  POINT (-121.7349636 38.54880290000001)  \n",
       "1         POINT (-121.5298241 38.5805771)  \n",
       "2           POINT (-121.525425 38.590215)  \n",
       "3         POINT (-121.5245931 38.5892931)  \n",
       "4          POINT (-121.7463309 38.543602)  "
      ]
     },
     "execution_count": 5,
     "metadata": {},
     "output_type": "execute_result"
    }
   ],
   "source": [
    "import geopandas as gpd\n",
    "\n",
    "lnglat = [geom.Point(lng, lat) for lng, lat in zip(food.lng, food.lat)]\n",
    "\n",
    "food = gpd.GeoDataFrame(food, geometry = lnglat)\n",
    "food.head()"
   ]
  },
  {
   "cell_type": "code",
   "execution_count": 6,
   "metadata": {},
   "outputs": [
    {
     "data": {
      "text/plain": [
       "<matplotlib.axes._subplots.AxesSubplot at 0x7fd46573b668>"
      ]
     },
     "execution_count": 6,
     "metadata": {},
     "output_type": "execute_result"
    },
    {
     "data": {
      "image/png": "[encoded data removed]",
      "text/plain": [
       "<matplotlib.figure.Figure at 0x7fd46d467e10>"
      ]
     },
     "metadata": {},
     "output_type": "display_data"
    }
   ],
   "source": [
    "food.plot()"
   ]
  },
  {
   "cell_type": "markdown",
   "metadata": {},
   "source": [
    "The map is hard to read unless we add some boundary lines.\n",
    "\n",
    "Boundaries are usually stored as GeoJSON or Shapefile files. These files are often available for free online.\n",
    "\n",
    "For instance, we can get [county](https://www.census.gov/geo/maps-data/data/cbf/cbf_counties.html), [place](https://www.census.gov/geo/maps-data/data/cbf/cbf_place.html), and [zip code](https://www.census.gov/geo/maps-data/data/cbf/cbf_zcta.html) shapefiles from the US Census."
   ]
  },
  {
   "cell_type": "code",
   "execution_count": 56,
   "metadata": {},
   "outputs": [
    {
     "data": {
      "text/html": [
       "<div>\n",
       "<style scoped>\n",
       "    .dataframe tbody tr th:only-of-type {\n",
       "        vertical-align: middle;\n",
       "    }\n",
       "\n",
       "    .dataframe tbody tr th {\n",
       "        vertical-align: top;\n",
       "    }\n",
       "\n",
       "    .dataframe thead th {\n",
       "        text-align: right;\n",
       "    }\n",
       "</style>\n",
       "<table border=\"1\" class=\"dataframe\">\n",
       "  <thead>\n",
       "    <tr style=\"text-align: right;\">\n",
       "      <th></th>\n",
       "      <th>ZCTA5CE10</th>\n",
       "      <th>AFFGEOID10</th>\n",
       "      <th>GEOID10</th>\n",
       "      <th>ALAND10</th>\n",
       "      <th>AWATER10</th>\n",
       "      <th>geometry</th>\n",
       "    </tr>\n",
       "  </thead>\n",
       "  <tbody>\n",
       "    <tr>\n",
       "      <th>0</th>\n",
       "      <td>21914</td>\n",
       "      <td>8600000US21914</td>\n",
       "      <td>21914</td>\n",
       "      <td>1924479</td>\n",
       "      <td>477175</td>\n",
       "      <td>POLYGON ((-75.99444799999999 39.567742, -75.99...</td>\n",
       "    </tr>\n",
       "    <tr>\n",
       "      <th>1</th>\n",
       "      <td>01001</td>\n",
       "      <td>8600000US01001</td>\n",
       "      <td>01001</td>\n",
       "      <td>29731610</td>\n",
       "      <td>2118827</td>\n",
       "      <td>POLYGON ((-72.667677 42.045022, -72.657715 42....</td>\n",
       "    </tr>\n",
       "    <tr>\n",
       "      <th>2</th>\n",
       "      <td>34736</td>\n",
       "      <td>8600000US34736</td>\n",
       "      <td>34736</td>\n",
       "      <td>322808220</td>\n",
       "      <td>78588518</td>\n",
       "      <td>(POLYGON ((-81.806163 28.568643, -81.801577999...</td>\n",
       "    </tr>\n",
       "    <tr>\n",
       "      <th>3</th>\n",
       "      <td>46151</td>\n",
       "      <td>8600000US46151</td>\n",
       "      <td>46151</td>\n",
       "      <td>530632048</td>\n",
       "      <td>9804480</td>\n",
       "      <td>(POLYGON ((-86.398562 39.320829, -86.398125999...</td>\n",
       "    </tr>\n",
       "    <tr>\n",
       "      <th>4</th>\n",
       "      <td>48039</td>\n",
       "      <td>8600000US48039</td>\n",
       "      <td>48039</td>\n",
       "      <td>59592687</td>\n",
       "      <td>4845242</td>\n",
       "      <td>POLYGON ((-82.61060000000001 42.724669, -82.51...</td>\n",
       "    </tr>\n",
       "  </tbody>\n",
       "</table>\n",
       "</div>"
      ],
      "text/plain": [
       "  ZCTA5CE10      AFFGEOID10 GEOID10    ALAND10  AWATER10  \\\n",
       "0     21914  8600000US21914   21914    1924479    477175   \n",
       "1     01001  8600000US01001   01001   29731610   2118827   \n",
       "2     34736  8600000US34736   34736  322808220  78588518   \n",
       "3     46151  8600000US46151   46151  530632048   9804480   \n",
       "4     48039  8600000US48039   48039   59592687   4845242   \n",
       "\n",
       "                                            geometry  \n",
       "0  POLYGON ((-75.99444799999999 39.567742, -75.99...  \n",
       "1  POLYGON ((-72.667677 42.045022, -72.657715 42....  \n",
       "2  (POLYGON ((-81.806163 28.568643, -81.801577999...  \n",
       "3  (POLYGON ((-86.398562 39.320829, -86.398125999...  \n",
       "4  POLYGON ((-82.61060000000001 42.724669, -82.51...  "
      ]
     },
     "execution_count": 56,
     "metadata": {},
     "output_type": "execute_result"
    }
   ],
   "source": [
    "zips = gpd.read_file(\"shapefiles/zips/cb_2016_us_zcta510_500k.shp\")\n",
    "zips.head()"
   ]
  },
  {
   "cell_type": "code",
   "execution_count": 11,
   "metadata": {},
   "outputs": [
    {
     "data": {
      "text/html": [
       "<div>\n",
       "<style scoped>\n",
       "    .dataframe tbody tr th:only-of-type {\n",
       "        vertical-align: middle;\n",
       "    }\n",
       "\n",
       "    .dataframe tbody tr th {\n",
       "        vertical-align: top;\n",
       "    }\n",
       "\n",
       "    .dataframe thead th {\n",
       "        text-align: right;\n",
       "    }\n",
       "</style>\n",
       "<table border=\"1\" class=\"dataframe\">\n",
       "  <thead>\n",
       "    <tr style=\"text-align: right;\">\n",
       "      <th></th>\n",
       "      <th>STATEFP</th>\n",
       "      <th>COUNTYFP</th>\n",
       "      <th>COUNTYNS</th>\n",
       "      <th>AFFGEOID</th>\n",
       "      <th>GEOID</th>\n",
       "      <th>NAME</th>\n",
       "      <th>LSAD</th>\n",
       "      <th>ALAND</th>\n",
       "      <th>AWATER</th>\n",
       "      <th>geometry</th>\n",
       "    </tr>\n",
       "  </thead>\n",
       "  <tbody>\n",
       "    <tr>\n",
       "      <th>0</th>\n",
       "      <td>19</td>\n",
       "      <td>107</td>\n",
       "      <td>00465242</td>\n",
       "      <td>0500000US19107</td>\n",
       "      <td>19107</td>\n",
       "      <td>Keokuk</td>\n",
       "      <td>06</td>\n",
       "      <td>1500067253</td>\n",
       "      <td>1929323</td>\n",
       "      <td>POLYGON ((-92.41199499999999 41.509548, -92.35...</td>\n",
       "    </tr>\n",
       "    <tr>\n",
       "      <th>1</th>\n",
       "      <td>19</td>\n",
       "      <td>189</td>\n",
       "      <td>00465283</td>\n",
       "      <td>0500000US19189</td>\n",
       "      <td>19189</td>\n",
       "      <td>Winnebago</td>\n",
       "      <td>06</td>\n",
       "      <td>1037261946</td>\n",
       "      <td>3182052</td>\n",
       "      <td>POLYGON ((-93.97076 43.499605, -93.88843009910...</td>\n",
       "    </tr>\n",
       "    <tr>\n",
       "      <th>2</th>\n",
       "      <td>20</td>\n",
       "      <td>093</td>\n",
       "      <td>00485011</td>\n",
       "      <td>0500000US20093</td>\n",
       "      <td>20093</td>\n",
       "      <td>Kearny</td>\n",
       "      <td>06</td>\n",
       "      <td>2254696689</td>\n",
       "      <td>1133601</td>\n",
       "      <td>POLYGON ((-101.54192 37.914575, -101.541863 37...</td>\n",
       "    </tr>\n",
       "    <tr>\n",
       "      <th>3</th>\n",
       "      <td>20</td>\n",
       "      <td>123</td>\n",
       "      <td>00485026</td>\n",
       "      <td>0500000US20123</td>\n",
       "      <td>20123</td>\n",
       "      <td>Mitchell</td>\n",
       "      <td>06</td>\n",
       "      <td>1817632928</td>\n",
       "      <td>44979981</td>\n",
       "      <td>POLYGON ((-98.49006799999999 39.241666, -98.49...</td>\n",
       "    </tr>\n",
       "    <tr>\n",
       "      <th>4</th>\n",
       "      <td>20</td>\n",
       "      <td>187</td>\n",
       "      <td>00485055</td>\n",
       "      <td>0500000US20187</td>\n",
       "      <td>20187</td>\n",
       "      <td>Stanton</td>\n",
       "      <td>06</td>\n",
       "      <td>1762104518</td>\n",
       "      <td>178555</td>\n",
       "      <td>POLYGON ((-102.041899 37.541186, -102.041894 3...</td>\n",
       "    </tr>\n",
       "  </tbody>\n",
       "</table>\n",
       "</div>"
      ],
      "text/plain": [
       "  STATEFP COUNTYFP  COUNTYNS        AFFGEOID  GEOID       NAME LSAD  \\\n",
       "0      19      107  00465242  0500000US19107  19107     Keokuk   06   \n",
       "1      19      189  00465283  0500000US19189  19189  Winnebago   06   \n",
       "2      20      093  00485011  0500000US20093  20093     Kearny   06   \n",
       "3      20      123  00485026  0500000US20123  20123   Mitchell   06   \n",
       "4      20      187  00485055  0500000US20187  20187    Stanton   06   \n",
       "\n",
       "        ALAND    AWATER                                           geometry  \n",
       "0  1500067253   1929323  POLYGON ((-92.41199499999999 41.509548, -92.35...  \n",
       "1  1037261946   3182052  POLYGON ((-93.97076 43.499605, -93.88843009910...  \n",
       "2  2254696689   1133601  POLYGON ((-101.54192 37.914575, -101.541863 37...  \n",
       "3  1817632928  44979981  POLYGON ((-98.49006799999999 39.241666, -98.49...  \n",
       "4  1762104518    178555  POLYGON ((-102.041899 37.541186, -102.041894 3...  "
      ]
     },
     "execution_count": 11,
     "metadata": {},
     "output_type": "execute_result"
    }
   ],
   "source": [
    "counties = gpd.read_file(\"shapefiles/counties/cb_2016_us_county_500k.shp\")\n",
    "counties.head()"
   ]
  },
  {
   "cell_type": "code",
   "execution_count": 28,
   "metadata": {},
   "outputs": [],
   "source": [
    "counties = counties[counties.STATEFP == \"06\"]\n",
    "\n",
    "keep = [\"Yolo\", \"Lake\", \"Colusa\", \"Sutter\", \"Sacramento\", \"Solano\", \"Napa\"]\n",
    "counties = counties[counties.NAME.isin(keep)]"
   ]
  },
  {
   "cell_type": "code",
   "execution_count": 31,
   "metadata": {},
   "outputs": [
    {
     "data": {
      "text/html": [
       "<div>\n",
       "<style scoped>\n",
       "    .dataframe tbody tr th:only-of-type {\n",
       "        vertical-align: middle;\n",
       "    }\n",
       "\n",
       "    .dataframe tbody tr th {\n",
       "        vertical-align: top;\n",
       "    }\n",
       "\n",
       "    .dataframe thead th {\n",
       "        text-align: right;\n",
       "    }\n",
       "</style>\n",
       "<table border=\"1\" class=\"dataframe\">\n",
       "  <thead>\n",
       "    <tr style=\"text-align: right;\">\n",
       "      <th></th>\n",
       "      <th>STATEFP</th>\n",
       "      <th>PLACEFP</th>\n",
       "      <th>PLACENS</th>\n",
       "      <th>AFFGEOID</th>\n",
       "      <th>GEOID</th>\n",
       "      <th>NAME</th>\n",
       "      <th>LSAD</th>\n",
       "      <th>ALAND</th>\n",
       "      <th>AWATER</th>\n",
       "      <th>geometry</th>\n",
       "    </tr>\n",
       "  </thead>\n",
       "  <tbody>\n",
       "    <tr>\n",
       "      <th>0</th>\n",
       "      <td>06</td>\n",
       "      <td>43000</td>\n",
       "      <td>02410866</td>\n",
       "      <td>1600000US0643000</td>\n",
       "      <td>0643000</td>\n",
       "      <td>Long Beach</td>\n",
       "      <td>25</td>\n",
       "      <td>130317967</td>\n",
       "      <td>3004950</td>\n",
       "      <td>(POLYGON ((-118.1289 33.758009, -118.127321 33...</td>\n",
       "    </tr>\n",
       "    <tr>\n",
       "      <th>1</th>\n",
       "      <td>06</td>\n",
       "      <td>22804</td>\n",
       "      <td>02410455</td>\n",
       "      <td>1600000US0622804</td>\n",
       "      <td>0622804</td>\n",
       "      <td>Escondido</td>\n",
       "      <td>25</td>\n",
       "      <td>96015101</td>\n",
       "      <td>455887</td>\n",
       "      <td>(POLYGON ((-117.023725 33.180605, -117.021986 ...</td>\n",
       "    </tr>\n",
       "    <tr>\n",
       "      <th>2</th>\n",
       "      <td>06</td>\n",
       "      <td>33434</td>\n",
       "      <td>02410751</td>\n",
       "      <td>1600000US0633434</td>\n",
       "      <td>0633434</td>\n",
       "      <td>Hesperia</td>\n",
       "      <td>25</td>\n",
       "      <td>189317184</td>\n",
       "      <td>293823</td>\n",
       "      <td>POLYGON ((-117.439881 34.354206, -117.437349 3...</td>\n",
       "    </tr>\n",
       "    <tr>\n",
       "      <th>3</th>\n",
       "      <td>06</td>\n",
       "      <td>13882</td>\n",
       "      <td>02409474</td>\n",
       "      <td>1600000US0613882</td>\n",
       "      <td>0613882</td>\n",
       "      <td>Clayton</td>\n",
       "      <td>25</td>\n",
       "      <td>9946656</td>\n",
       "      <td>0</td>\n",
       "      <td>POLYGON ((-121.956525 37.952527, -121.954416 3...</td>\n",
       "    </tr>\n",
       "    <tr>\n",
       "      <th>4</th>\n",
       "      <td>06</td>\n",
       "      <td>53000</td>\n",
       "      <td>02411292</td>\n",
       "      <td>1600000US0653000</td>\n",
       "      <td>0653000</td>\n",
       "      <td>Oakland</td>\n",
       "      <td>25</td>\n",
       "      <td>144762241</td>\n",
       "      <td>56897826</td>\n",
       "      <td>POLYGON ((-122.342253 37.805558, -122.33411840...</td>\n",
       "    </tr>\n",
       "  </tbody>\n",
       "</table>\n",
       "</div>"
      ],
      "text/plain": [
       "  STATEFP PLACEFP   PLACENS          AFFGEOID    GEOID        NAME LSAD  \\\n",
       "0      06   43000  02410866  1600000US0643000  0643000  Long Beach   25   \n",
       "1      06   22804  02410455  1600000US0622804  0622804   Escondido   25   \n",
       "2      06   33434  02410751  1600000US0633434  0633434    Hesperia   25   \n",
       "3      06   13882  02409474  1600000US0613882  0613882     Clayton   25   \n",
       "4      06   53000  02411292  1600000US0653000  0653000     Oakland   25   \n",
       "\n",
       "       ALAND    AWATER                                           geometry  \n",
       "0  130317967   3004950  (POLYGON ((-118.1289 33.758009, -118.127321 33...  \n",
       "1   96015101    455887  (POLYGON ((-117.023725 33.180605, -117.021986 ...  \n",
       "2  189317184    293823  POLYGON ((-117.439881 34.354206, -117.437349 3...  \n",
       "3    9946656         0  POLYGON ((-121.956525 37.952527, -121.954416 3...  \n",
       "4  144762241  56897826  POLYGON ((-122.342253 37.805558, -122.33411840...  "
      ]
     },
     "execution_count": 31,
     "metadata": {},
     "output_type": "execute_result"
    }
   ],
   "source": [
    "places = gpd.read_file(\"shapefiles/places/cb_2016_06_place_500k.shp\")\n",
    "places.head()"
   ]
  },
  {
   "cell_type": "code",
   "execution_count": 52,
   "metadata": {},
   "outputs": [
    {
     "data": {
      "text/plain": [
       "(38.2, 39)"
      ]
     },
     "execution_count": 52,
     "metadata": {},
     "output_type": "execute_result"
    },
    {
     "data": {
      "image/png": "[encoded data removed]",
      "text/plain": [
       "<matplotlib.figure.Figure at 0x7fd45273a588>"
      ]
     },
     "metadata": {},
     "output_type": "display_data"
    }
   ],
   "source": [
    "ax = counties.plot(color = \"white\", edgecolor = \"black\")\n",
    "ax = places[places.NAME == \"Davis\"].plot(color = \"white\", edgecolor = \"red\", ax = ax)\n",
    "food.plot(ax = ax)\n",
    "ax.set_xlim([-122.5, -121.3])\n",
    "ax.set_ylim([38.2, 39])"
   ]
  },
  {
   "cell_type": "markdown",
   "metadata": {},
   "source": [
    "## GeoPlot"
   ]
  },
  {
   "cell_type": "markdown",
   "metadata": {},
   "source": [
    "We can use the geoplot package to make nicer maps."
   ]
  },
  {
   "cell_type": "code",
   "execution_count": null,
   "metadata": {
    "scrolled": false
   },
   "outputs": [],
   "source": [
    "import geoplot as gplt\n",
    "\n",
    "ax = gplt.polyplot(counties)\n",
    "gplt.pointplot(food, ax = ax)"
   ]
  },
  {
   "cell_type": "code",
   "execution_count": null,
   "metadata": {},
   "outputs": [],
   "source": [
    "ax = gplt.polyplot(counties[counties.NAME == \"Yolo\"])\n",
    "gplt.pointplot(food, ax = ax)"
   ]
  },
  {
   "cell_type": "markdown",
   "metadata": {},
   "source": [
    "## Basemap\n",
    "\n",
    "The basemap package provides GIS functions for matplotlib."
   ]
  },
  {
   "cell_type": "markdown",
   "metadata": {},
   "source": [
    "We'll use the [NOAA Significant Earthquake Database](https://www.ngdc.noaa.gov/nndc/struts/form?t=101650&s=1&d=1) in the examples below."
   ]
  },
  {
   "cell_type": "code",
   "execution_count": null,
   "metadata": {
    "collapsed": true,
    "scrolled": true
   },
   "outputs": [],
   "source": [
    "df = pd.read_table(\"significant_quakes.tsv\")\n",
    "df.columns = df.columns.str.lower()\n",
    "latlon = [\"latitude\", \"longitude\"]\n",
    "df[latlon] = df[latlon].apply(lambda x: pd.to_numeric(x.str.strip()))\n",
    "df.head()"
   ]
  },
  {
   "cell_type": "code",
   "execution_count": null,
   "metadata": {
    "collapsed": true
   },
   "outputs": [],
   "source": [
    "df.dtypes"
   ]
  },
  {
   "cell_type": "code",
   "execution_count": null,
   "metadata": {
    "collapsed": true,
    "scrolled": false
   },
   "outputs": [],
   "source": [
    "from mpl_toolkits.basemap import Basemap\n",
    "import numpy as np\n",
    "\n",
    "my_map = Basemap(projection='robin', lat_0=0, lon_0=-130, resolution='l', area_thresh=1000)\n",
    "\n",
    "my_map.drawcoastlines()\n",
    "my_map.drawcountries()\n",
    "my_map.fillcontinents(color=\"gray\")\n",
    "my_map.drawmapboundary()\n",
    "my_map.drawmeridians(np.arange(0, 360, 30))\n",
    "my_map.drawparallels(np.arange(-90, 90, 30))\n",
    "\n",
    "x, y = my_map(-121.70, 38.54) # Davis, CA\n",
    "my_map.plot(x, y, \"ro\")\n",
    "my_map"
   ]
  },
  {
   "cell_type": "code",
   "execution_count": null,
   "metadata": {
    "collapsed": true
   },
   "outputs": [],
   "source": [
    "quake_map = Basemap(projection='robin', lat_0=0, lon_0=-130, resolution='l', area_thresh=1000)\n",
    " \n",
    "quake_map.drawcoastlines()\n",
    "quake_map.drawcountries()\n",
    "quake_map.fillcontinents(color=\"gray\")\n",
    "quake_map.drawmapboundary()\n",
    "quake_map.drawmeridians(np.arange(0, 360, 30))\n",
    "quake_map.drawparallels(np.arange(-90, 90, 30))\n",
    "\n",
    "x, y = quake_map(df.longitude.values, df.latitude.values)\n",
    "quake_map.plot(x, y, \"ro\", markersize = 1)"
   ]
  },
  {
   "cell_type": "code",
   "execution_count": null,
   "metadata": {
    "collapsed": true
   },
   "outputs": [],
   "source": [
    "df.eq_primary.describe()"
   ]
  },
  {
   "cell_type": "code",
   "execution_count": null,
   "metadata": {
    "collapsed": true,
    "scrolled": false
   },
   "outputs": [],
   "source": [
    "quake_map = Basemap(projection='robin', lat_0=0, lon_0=-130, resolution='l', area_thresh=1000)\n",
    " \n",
    "quake_map.drawcoastlines()\n",
    "quake_map.drawcountries()\n",
    "quake_map.fillcontinents(color=\"gray\")\n",
    "quake_map.drawmapboundary()\n",
    "quake_map.drawmeridians(np.arange(0, 360, 30))\n",
    "quake_map.drawparallels(np.arange(-90, 90, 30))\n",
    "\n",
    "for lon, lat, mag in zip(df.longitude, df.latitude, df.eq_primary):\n",
    "    x, y = quake_map(lon, lat)\n",
    "    color = \"r\"\n",
    "    if mag <= 5.7:\n",
    "        color = \"g\"\n",
    "    elif mag <= 6.5:\n",
    "        color = \"y\"\n",
    "    quake_map.plot(x, y, color + \"o\", markersize = mag**2 / 10)"
   ]
  },
  {
   "cell_type": "code",
   "execution_count": null,
   "metadata": {
    "collapsed": true
   },
   "outputs": [],
   "source": [
    "my_map = Basemap(llcrnrlon=-123.0, llcrnrlat=37.5, urcrnrlon=-122.0, urcrnrlat=38.0, resolution=\"h\",\n",
    "    projection=\"merc\"\n",
    ")\n",
    "\n",
    "my_map.drawcoastlines()\n",
    "my_map.drawcounties()\n",
    "\n",
    "my_map.readshapefile(\"zip/cb_2015_us_zcta510_500k\", \"zipcodes\")\n",
    "\n",
    "my_map"
   ]
  }
 ],
 "metadata": {
  "kernelspec": {
   "display_name": "Python 3",
   "language": "python",
   "name": "python3"
  },
  "language_info": {
   "codemirror_mode": {
    "name": "ipython",
    "version": 3
   },
   "file_extension": ".py",
   "mimetype": "text/x-python",
   "name": "python",
   "nbconvert_exporter": "python",
   "pygments_lexer": "ipython3",
   "version": "3.6.4"
  }
 },
 "nbformat": 4,
 "nbformat_minor": 2
}
