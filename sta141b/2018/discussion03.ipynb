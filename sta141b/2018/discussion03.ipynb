{
 "cells": [
  {
   "cell_type": "markdown",
   "metadata": {},
   "source": [
    "# Week 3 Discussion\n",
    "\n",
    "## Infographic\n",
    "\n",
    "* [Fourier Transforms of Images](https://plus.maths.org/content/fourier-transforms-images)\n",
    "\n",
    "## Links\n",
    "\n",
    "* [We Recommend a Singular Value Decomposition][svd] -- if you want to understand the math behind the SVD\n",
    "* [Interactive Guide to the Fourier Transform][fourier] -- if you want to understand the math behind the FFT\n",
    "\n",
    "[svd]: http://www.ams.org/samplings/feature-column/fcarc-svd\n",
    "[fourier]: https://betterexplained.com/articles/an-interactive-guide-to-the-fourier-transform/"
   ]
  },
  {
   "cell_type": "markdown",
   "metadata": {},
   "source": [
    "If you're having trouble getting PIL to work, there's another way you can load an image:"
   ]
  },
  {
   "cell_type": "code",
   "execution_count": null,
   "metadata": {},
   "outputs": [],
   "source": [
    "import matplotlib.pyplot as plt\n",
    "import matplotlib.image as img\n",
    "\n",
    "dog = img.imread(\"dog.png\")\n",
    "plt.imshow(dog)\n",
    "plt.show()"
   ]
  },
  {
   "cell_type": "code",
   "execution_count": null,
   "metadata": {
    "collapsed": true
   },
   "outputs": [],
   "source": [
    "# Automatically display matplotlib plots, so that we don't have to write `plt.show()`.\n",
    "# Normally this should be in a cell at the top of the notebook.\n",
    "%matplotlib inline"
   ]
  },
  {
   "cell_type": "markdown",
   "metadata": {},
   "source": [
    "Matplotlib is a package for plotting, which we'll use throughout the quarter. Note that if you use matplotlib to load the image, you don't need the `as_image()` function from Assignment 2."
   ]
  },
  {
   "cell_type": "code",
   "execution_count": null,
   "metadata": {},
   "outputs": [],
   "source": [
    "dog.dtype"
   ]
  },
  {
   "cell_type": "markdown",
   "metadata": {},
   "source": [
    "Depending on which package you use to load an image, pixels may be encoded as integers or floating point (decimal) numbers. The scikit-image package has [some documentation](http://scikit-image.org/docs/dev/user_guide/data_types.html) about what these numbers typically mean."
   ]
  },
  {
   "cell_type": "markdown",
   "metadata": {},
   "source": [
    "## Debugging\n",
    "\n",
    "When you get an error message or an incorrect result:\n",
    "\n",
    "1. If there's an error message, what does the error message mean?\n",
    "2. Where (what line) did the error come from? You may have to work backward.\n",
    "3. Use `print()` or the interactive debugger to inspect variables."
   ]
  },
  {
   "cell_type": "code",
   "execution_count": null,
   "metadata": {},
   "outputs": [],
   "source": [
    "def add3(x):\n",
    "    return x + 3\n",
    "\n",
    "add3(\"hi\")"
   ]
  },
  {
   "cell_type": "markdown",
   "metadata": {},
   "source": [
    "The error is \"must be str, not int\" and points to line 2 of the `add3()` function.\n",
    "\n",
    "We can trace `x` in line 2 back to the parameter `x`. So maybe something is wrong with our call `add3(\"hi\")`.\n",
    "\n",
    "We can check by adding a print statement:"
   ]
  },
  {
   "cell_type": "code",
   "execution_count": null,
   "metadata": {},
   "outputs": [],
   "source": [
    "def add3(x):\n",
    "    print(x)\n",
    "    return x + 3\n",
    "\n",
    "add3(\"hi\")"
   ]
  },
  {
   "cell_type": "markdown",
   "metadata": {},
   "source": [
    "We could also use the debugger to check:"
   ]
  },
  {
   "cell_type": "code",
   "execution_count": null,
   "metadata": {
    "collapsed": true
   },
   "outputs": [],
   "source": [
    "# Load the debugger module. This comes with Jupyter.\n",
    "import IPython.core.debugger as debug"
   ]
  },
  {
   "cell_type": "code",
   "execution_count": null,
   "metadata": {},
   "outputs": [],
   "source": [
    "def add3(x):\n",
    "    debug.Tracer()() # note the doubled ()\n",
    "    return x + 3\n",
    "\n",
    "add3(\"hi\")"
   ]
  },
  {
   "cell_type": "markdown",
   "metadata": {},
   "source": [
    "If you're using the terminal, you can instead use:\n",
    "\n",
    "```python\n",
    "import ipdb\n",
    "\n",
    "# To pause the interpreter.\n",
    "ipdb.set_trace()\n",
    "```"
   ]
  },
  {
   "cell_type": "markdown",
   "metadata": {},
   "source": [
    "## Problem Solving: An Example"
   ]
  },
  {
   "cell_type": "markdown",
   "metadata": {},
   "source": [
    "Break problems into small steps.\n",
    "\n",
    "If you're trying to figure out how something works, test on small \"toy\" examples and draw pictures."
   ]
  },
  {
   "cell_type": "code",
   "execution_count": null,
   "metadata": {},
   "outputs": [],
   "source": [
    "import numpy as np\n",
    "import skimage as ski\n",
    "import skimage.color\n",
    "\n",
    "# Switch from (red, green, blue) to (hue, saturation, value).\n",
    "# Hue is the color (from red to violet).\n",
    "# Saturation is how colorful (from colorless to colorful).\n",
    "# Value is how bright (from black to bright color).\n",
    "dog_hsv = ski.color.rgb2hsv(dog)"
   ]
  },
  {
   "cell_type": "markdown",
   "metadata": {},
   "source": [
    "Let's try to find all the green pixels and make them red.\n",
    "\n",
    "How can we do this? Start by taking a small piece of the dog image, say the lower left corner."
   ]
  },
  {
   "cell_type": "markdown",
   "metadata": {},
   "source": [
    "How can we figure out what \"green\" looks like in HSV?"
   ]
  },
  {
   "cell_type": "markdown",
   "metadata": {},
   "source": [
    "So we get all pixels with hue \"nearby\" the grass mean.\n",
    "\n",
    "How can we define \"nearby\"?"
   ]
  }
 ],
 "metadata": {
  "kernelspec": {
   "display_name": "Python 3",
   "language": "python",
   "name": "python3"
  },
  "language_info": {
   "codemirror_mode": {
    "name": "ipython",
    "version": 3
   },
   "file_extension": ".py",
   "mimetype": "text/x-python",
   "name": "python",
   "nbconvert_exporter": "python",
   "pygments_lexer": "ipython3",
   "version": "3.6.4"
  }
 },
 "nbformat": 4,
 "nbformat_minor": 2
}
